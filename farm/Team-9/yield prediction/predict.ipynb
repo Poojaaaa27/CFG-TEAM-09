{
 "cells": [
  {
   "cell_type": "code",
   "execution_count": null,
   "id": "bdf8d338",
   "metadata": {},
   "outputs": [],
   "source": []
  },
  {
   "cell_type": "code",
   "execution_count": 1,
   "id": "fccdda36",
   "metadata": {},
   "outputs": [],
   "source": [
    "import pandas as pd\n",
    "from sklearn.ensemble import IsolationForest"
   ]
  },
  {
   "cell_type": "code",
   "execution_count": 2,
   "id": "db8e81dc",
   "metadata": {},
   "outputs": [],
   "source": [
    "df = pd.read_csv('crop_yield.csv')"
   ]
  },
  {
   "cell_type": "code",
   "execution_count": 3,
   "id": "9b29f338",
   "metadata": {},
   "outputs": [],
   "source": [
    "features = [\"Area\", \"Production\", \"Annual_Rainfall\", \"Fertilizer\", \"Pesticide\", \"Yield\"]\n",
    "df[features] = df[features].fillna(0)"
   ]
  },
  {
   "cell_type": "code",
   "execution_count": 4,
   "id": "3c66737a",
   "metadata": {},
   "outputs": [],
   "source": [
    "clf = IsolationForest(contamination=0.1, random_state=42)\n",
    "df['anomaly'] = clf.fit_predict(df[features])"
   ]
  },
  {
   "cell_type": "code",
   "execution_count": 6,
   "id": "79b61cf4",
   "metadata": {},
   "outputs": [],
   "source": [
    "anomalies = df[df['anomaly'] == -1].copy()\n",
    "avg_by_crop = df.groupby(\"Crop\")[features].mean().reset_index()\n",
    "anomalies = pd.merge(anomalies, avg_by_crop, on=\"Crop\", suffixes=('', '_avg'))"
   ]
  },
  {
   "cell_type": "code",
   "execution_count": 7,
   "id": "76ae28e6",
   "metadata": {},
   "outputs": [],
   "source": [
    "avg_by_crop = df.groupby(\"Crop\")[features].mean().reset_index()\n",
    "anomalies = pd.merge(anomalies, avg_by_crop, on=\"Crop\", suffixes=('', '_avg'))\n"
   ]
  },
  {
   "cell_type": "code",
   "execution_count": 23,
   "id": "716e659d",
   "metadata": {},
   "outputs": [
    {
     "name": "stdout",
     "output_type": "stream",
     "text": [
      "              Crop           State       Area  Production         Yield  \\\n",
      "752   Cotton(lint)     Maharashtra  3199100.0     2618900      1.040435   \n",
      "765      Groundnut      Tamil Nadu  1086462.0     1960643      1.822963   \n",
      "1654          Rice         Haryana  1384700.0     4451000      2.950500   \n",
      "1251          Gram     Maharashtra  1291400.0     1114400      0.795806   \n",
      "1161         Bajra         Haryana   627983.0     1156000      2.016000   \n",
      "694           Rice         Gujarat   672600.0     1042300      1.665000   \n",
      "70       Sugarcane          Kerala     5780.0      578820     88.222500   \n",
      "1419  Cotton(lint)  Madhya Pradesh   593642.0     1162620      1.714444   \n",
      "56        Coconut      West Bengal    24616.0   318174400  12448.062220   \n",
      "1116         Maize  Madhya Pradesh   879420.0      846002      0.903617   \n",
      "\n",
      "       Fertilizer  Fertilizer_avg  Annual_Rainfall  Annual_Rainfall_avg  \\\n",
      "752   316071080.0    6.415998e+07           1314.8          1448.085438   \n",
      "765   107342445.6    2.212788e+07           1077.1          1410.882211   \n",
      "1654  212205275.0    1.112895e+08            554.7          1668.577133   \n",
      "1251  201225948.0    4.085091e+07           1002.4          1299.926857   \n",
      "1161   83772932.2    2.299835e+07            443.8          1062.356408   \n",
      "694    64011342.0    1.112895e+08            798.9          1668.577133   \n",
      "70       613431.4    2.298336e+07           2914.6          1560.093959   \n",
      "1419   89521213.6    6.415998e+07           1049.5          1448.085438   \n",
      "56      2432060.8    3.027078e+07           2152.5          1793.241279   \n",
      "1116  112310728.2    2.226814e+07           1072.3          1408.820428   \n",
      "\n",
      "      Pesticide  Pesticide_avg  \\\n",
      "752   927739.00  128428.652863   \n",
      "765   315073.98   44769.405759   \n",
      "1654  484645.00  223779.966555   \n",
      "1251  219538.00   81341.195068   \n",
      "1161  100477.28   47060.740202   \n",
      "694   208506.00  223779.966555   \n",
      "70      1560.60   46165.830207   \n",
      "1419  184029.02  128428.652863   \n",
      "56      7138.64   60419.486482   \n",
      "1116  193472.40   44578.174016   \n",
      "\n",
      "                                                Reasons  \\\n",
      "752              Yield lower than average for this crop   \n",
      "765                    Low rainfall compared to average   \n",
      "1654                   Low rainfall compared to average   \n",
      "1251                   Low rainfall compared to average   \n",
      "1161                   Low rainfall compared to average   \n",
      "694   Low fertilizer usage; Low rainfall compared to...   \n",
      "70    Low fertilizer usage; Insufficient pest contro...   \n",
      "1419                   Low rainfall compared to average   \n",
      "56    Low fertilizer usage; Insufficient pest contro...   \n",
      "1116  Low rainfall compared to average; Yield lower ...   \n",
      "\n",
      "                                               Remedies  \n",
      "752   Check soil health and farming practices; provi...  \n",
      "765   Adopt irrigation or drought-resistant crop var...  \n",
      "1654  Adopt irrigation or drought-resistant crop var...  \n",
      "1251  Adopt irrigation or drought-resistant crop var...  \n",
      "1161  Adopt irrigation or drought-resistant crop var...  \n",
      "694   Increase fertilizer application as per crop gu...  \n",
      "70    Increase fertilizer application as per crop gu...  \n",
      "1419  Adopt irrigation or drought-resistant crop var...  \n",
      "56    Increase fertilizer application as per crop gu...  \n",
      "1116  Adopt irrigation or drought-resistant crop var...  \n"
     ]
    }
   ],
   "source": [
    "print(anomalies[[\n",
    "    \"Crop\", \"State\", \"Area\", \"Production\", \"Yield\", \"Fertilizer\", \"Fertilizer_avg\",\n",
    "    \"Annual_Rainfall\", \"Annual_Rainfall_avg\", \"Pesticide\", \"Pesticide_avg\",\n",
    "    \"Reasons\", \"Remedies\"\n",
    "]].sample(10, random_state=42))"
   ]
  },
  {
   "cell_type": "markdown",
   "id": "471963bb",
   "metadata": {},
   "source": [
    "# Example: check by Crop and State\n",
    "crop_name = input(\"Enter crop name: \")\n",
    "state_name = input(\"Enter state name: \")\n",
    "\n",
    "# You can add more filters if needed (like Season or Year)\n",
    "filtered = anomalies[\n",
    "    (anomalies['Crop'].str.lower() == crop_name.lower()) &\n",
    "    (anomalies['State'].str.lower() == state_name.lower())\n",
    "]\n",
    "\n",
    "if not filtered.empty:\n",
    "    for idx, row in filtered.iterrows():\n",
    "        print(f\"\\nResult for {row['Crop']} in {row['State']}:\")\n",
    "        print(f\"  Area: {row['Area']}, Production: {row['Production']}, Yield: {row['Yield']}\")\n",
    "        print(f\"  Fertilizer: {row['Fertilizer']} (Avg: {row['Fertilizer_avg']})\")\n",
    "        print(f\"  Rainfall: {row['Annual_Rainfall']} (Avg: {row['Annual_Rainfall_avg']})\")\n",
    "        print(f\"  Pesticide: {row['Pesticide']} (Avg: {row['Pesticide_avg']})\")\n",
    "        print(f\"  REASON: {row['Reasons']}\")\n",
    "        print(f\"  SUGGESTION: {row['Remedies']}\")\n",
    "else:\n",
    "    print(\"No anomaly detected for that crop/state combination.\")\n"
   ]
  },
  {
   "cell_type": "code",
   "execution_count": null,
   "id": "a6448ddb",
   "metadata": {},
   "outputs": [],
   "source": []
  },
  {
   "cell_type": "code",
   "execution_count": 24,
   "id": "3727cce1",
   "metadata": {},
   "outputs": [],
   "source": [
    "# <-- Add this line to check actual column names after merge\n",
    "\n",
    "def explain_row(row):\n",
    "    reasons = []\n",
    "    remedies = []\n",
    "\n",
    "    fert = row.get(\"Fertilizer\", None)\n",
    "    fert_avg = row.get(\"Fertilizer_avg\", None)\n",
    "    rain = row.get(\"Annual_Rainfall\", None)\n",
    "    rain_avg = row.get(\"Annual_Rainfall_avg\", None)\n",
    "    pest = row.get(\"Pesticide\", None)\n",
    "    pest_avg = row.get(\"Pesticide_avg\", None)\n",
    "    yield_ = row.get(\"Yield\", None)\n",
    "    yield_avg = row.get(\"Yield_avg\", None)\n",
    "    prod = row.get(\"Production\", None)\n",
    "    prod_avg = row.get(\"Production_avg\", None)\n",
    "\n",
    "    if fert is not None and fert_avg is not None and fert < 0.8 * fert_avg:\n",
    "        reasons.append(\"Low fertilizer usage\")\n",
    "        remedies.append(\"Increase fertilizer application as per crop guidelines.\")\n",
    "    if rain is not None and rain_avg is not None and rain < 0.8 * rain_avg:\n",
    "        reasons.append(\"Low rainfall compared to average\")\n",
    "        remedies.append(\"Adopt irrigation or drought-resistant crop varieties.\")\n",
    "    if pest is not None and pest_avg is not None and pest < 0.8 * pest_avg:\n",
    "        reasons.append(\"Insufficient pest control\")\n",
    "        remedies.append(\"Implement integrated pest management.\")\n",
    "    if yield_ is not None and yield_avg is not None and yield_ < 0.8 * yield_avg:\n",
    "        reasons.append(\"Yield lower than average for this crop\")\n",
    "        remedies.append(\"Check soil health and farming practices; provide training.\")\n",
    "    if prod is not None and prod_avg is not None and prod < 0.8 * prod_avg:\n",
    "        reasons.append(\"Production is significantly lower than typical\")\n",
    "        remedies.append(\"Assess inputs and growing conditions, provide expert support.\")\n",
    "    if not reasons:\n",
    "        reasons.append(\"Anomalous pattern detected\")\n",
    "        remedies.append(\"Comprehensive review of all farming inputs is recommended.\")\n",
    "    return pd.Series({\n",
    "        \"Reasons\": \"; \".join(reasons),\n",
    "        \"Remedies\": \"; \".join(remedies)\n",
    "    })\n"
   ]
  },
  {
   "cell_type": "code",
   "execution_count": 25,
   "id": "0d58bfa6",
   "metadata": {},
   "outputs": [],
   "source": [
    "explanations = anomalies.apply(explain_row, axis=1)\n",
    "anomalies = pd.concat([anomalies, explanations], axis=1)"
   ]
  },
  {
   "cell_type": "code",
   "execution_count": 26,
   "id": "de144e95",
   "metadata": {},
   "outputs": [
    {
     "name": "stdout",
     "output_type": "stream",
     "text": [
      "['Crop', 'Crop_Year', 'Season', 'State', 'Area', 'Production', 'Annual_Rainfall', 'Fertilizer', 'Pesticide', 'Yield', 'anomaly', 'Area_avg', 'Production_avg', 'Annual_Rainfall_avg', 'Fertilizer_avg', 'Pesticide_avg', 'Yield_avg', 'Reasons', 'Remedies', 'Reasons', 'Remedies']\n"
     ]
    }
   ],
   "source": [
    "print(anomalies.columns.tolist())\n"
   ]
  },
  {
   "cell_type": "code",
   "execution_count": 27,
   "id": "3bbb5910",
   "metadata": {},
   "outputs": [],
   "source": [
    "def explain_row(row):\n",
    "    reasons = []\n",
    "    remedies = []\n",
    "\n",
    "    # Always use the first set of *_avg columns (index matters if there are dups)\n",
    "    fert = row[\"Fertilizer\"]\n",
    "    fert_avg = row[\"Fertilizer_avg\"]\n",
    "    rain = row[\"Annual_Rainfall\"]\n",
    "    rain_avg = row[\"Annual_Rainfall_avg\"]\n",
    "    pest = row[\"Pesticide\"]\n",
    "    pest_avg = row[\"Pesticide_avg\"]\n",
    "    yield_ = row[\"Yield\"]\n",
    "    yield_avg = row[\"Yield_avg\"]\n",
    "    prod = row[\"Production\"]\n",
    "    prod_avg = row[\"Production_avg\"]\n",
    "\n",
    "    if fert < 0.8 * fert_avg:\n",
    "        reasons.append(\"Low fertilizer usage\")\n",
    "        remedies.append(\"Increase fertilizer application as per crop guidelines.\")\n",
    "    if rain < 0.8 * rain_avg:\n",
    "        reasons.append(\"Low rainfall compared to average\")\n",
    "        remedies.append(\"Adopt irrigation or drought-resistant crop varieties.\")\n",
    "    if pest < 0.8 * pest_avg:\n",
    "        reasons.append(\"Insufficient pest control\")\n",
    "        remedies.append(\"Implement integrated pest management.\")\n",
    "    if yield_ < 0.8 * yield_avg:\n",
    "        reasons.append(\"Yield lower than average for this crop\")\n",
    "        remedies.append(\"Check soil health and farming practices; provide training.\")\n",
    "    if prod < 0.8 * prod_avg:\n",
    "        reasons.append(\"Production is significantly lower than typical\")\n",
    "        remedies.append(\"Assess inputs and growing conditions, provide expert support.\")\n",
    "    if not reasons:\n",
    "        reasons.append(\"Anomalous pattern detected\")\n",
    "        remedies.append(\"Comprehensive review of all farming inputs is recommended.\")\n",
    "    return pd.Series({\n",
    "        \"Reasons\": \"; \".join(reasons),\n",
    "        \"Remedies\": \"; \".join(remedies)\n",
    "    })\n",
    "\n",
    "# Now apply the function safely!\n",
    "explanations = anomalies.apply(explain_row, axis=1)\n",
    "anomalies = pd.concat([anomalies, explanations], axis=1)"
   ]
  },
  {
   "cell_type": "code",
   "execution_count": 28,
   "id": "09d3e94b",
   "metadata": {},
   "outputs": [],
   "source": [
    "anomalies = anomalies.loc[:,~anomalies.columns.duplicated()]\n"
   ]
  },
  {
   "cell_type": "code",
   "execution_count": 29,
   "id": "05b070f3",
   "metadata": {},
   "outputs": [],
   "source": [
    "def explain_row(row):\n",
    "    reasons = []\n",
    "    remedies = []\n",
    "\n",
    "    fert = row[\"Fertilizer\"]\n",
    "    fert_avg = row[\"Fertilizer_avg\"]\n",
    "    rain = row[\"Annual_Rainfall\"]\n",
    "    rain_avg = row[\"Annual_Rainfall_avg\"]\n",
    "    pest = row[\"Pesticide\"]\n",
    "    pest_avg = row[\"Pesticide_avg\"]\n",
    "    yield_ = row[\"Yield\"]\n",
    "    yield_avg = row[\"Yield_avg\"]\n",
    "    prod = row[\"Production\"]\n",
    "    prod_avg = row[\"Production_avg\"]\n",
    "\n",
    "    if fert < 0.8 * fert_avg:\n",
    "        reasons.append(\"Low fertilizer usage\")\n",
    "        remedies.append(\"Increase fertilizer application as per crop guidelines.\")\n",
    "    if rain < 0.8 * rain_avg:\n",
    "        reasons.append(\"Low rainfall compared to average\")\n",
    "        remedies.append(\"Adopt irrigation or drought-resistant crop varieties.\")\n",
    "    if pest < 0.8 * pest_avg:\n",
    "        reasons.append(\"Insufficient pest control\")\n",
    "        remedies.append(\"Implement integrated pest management.\")\n",
    "    if yield_ < 0.8 * yield_avg:\n",
    "        reasons.append(\"Yield lower than average for this crop\")\n",
    "        remedies.append(\"Check soil health and farming practices; provide training.\")\n",
    "    if prod < 0.8 * prod_avg:\n",
    "        reasons.append(\"Production is significantly lower than typical\")\n",
    "        remedies.append(\"Assess inputs and growing conditions, provide expert support.\")\n",
    "    if not reasons:\n",
    "        reasons.append(\"Anomalous pattern detected\")\n",
    "        remedies.append(\"Comprehensive review of all farming inputs is recommended.\")\n",
    "    return pd.Series({\n",
    "        \"Reasons\": \"; \".join(reasons),\n",
    "        \"Remedies\": \"; \".join(remedies)\n",
    "    })\n",
    "\n",
    "# Deduplicate columns before this step!\n",
    "anomalies = anomalies.loc[:,~anomalies.columns.duplicated()]\n",
    "\n",
    "explanations = anomalies.apply(explain_row, axis=1)\n",
    "anomalies = pd.concat([anomalies, explanations], axis=1)\n"
   ]
  },
  {
   "cell_type": "code",
   "execution_count": 30,
   "id": "63999c11",
   "metadata": {},
   "outputs": [
    {
     "name": "stdout",
     "output_type": "stream",
     "text": [
      "Report saved as anomaly_report_with_reasons.csv\n",
      "        Crop      State       Area  Production        Yield  \\\n",
      "0   Coconut       Assam    19656.0   126905000  5238.051739   \n",
      "1       Rice      Assam   607358.0      398311     0.780870   \n",
      "2       Rice      Assam  1743321.0     1647296     0.941304   \n",
      "3  Groundnut  Karnataka   847666.0      525562     0.709412   \n",
      "4      Jowar  Karnataka  1501172.0      722773     0.510714   \n",
      "\n",
      "                                             Reasons  \\\n",
      "0  Low fertilizer usage; Insufficient pest contro...   \n",
      "1  Low fertilizer usage; Yield lower than average...   \n",
      "2             Yield lower than average for this crop   \n",
      "3             Yield lower than average for this crop   \n",
      "4             Yield lower than average for this crop   \n",
      "\n",
      "                                             Reasons  \\\n",
      "0  Low fertilizer usage; Insufficient pest contro...   \n",
      "1  Low fertilizer usage; Yield lower than average...   \n",
      "2             Yield lower than average for this crop   \n",
      "3             Yield lower than average for this crop   \n",
      "4             Yield lower than average for this crop   \n",
      "\n",
      "                                            Remedies  \\\n",
      "0  Increase fertilizer application as per crop gu...   \n",
      "1  Increase fertilizer application as per crop gu...   \n",
      "2  Check soil health and farming practices; provi...   \n",
      "3  Check soil health and farming practices; provi...   \n",
      "4  Check soil health and farming practices; provi...   \n",
      "\n",
      "                                            Remedies  \n",
      "0  Increase fertilizer application as per crop gu...  \n",
      "1  Increase fertilizer application as per crop gu...  \n",
      "2  Check soil health and farming practices; provi...  \n",
      "3  Check soil health and farming practices; provi...  \n",
      "4  Check soil health and farming practices; provi...  \n"
     ]
    }
   ],
   "source": [
    "final_report = anomalies[[\n",
    "    \"Crop\", \"State\", \"Area\", \"Production\", \"Yield\", \"Reasons\", \"Remedies\"\n",
    "]]\n",
    "\n",
    "# Save to CSV (you can open in Excel or Google Sheets)\n",
    "final_report.to_csv(\"anomaly_report_with_reasons.csv\", index=False)\n",
    "print(\"Report saved as anomaly_report_with_reasons.csv\")\n",
    "\n",
    "# Optionally, view the top rows\n",
    "print(final_report.head())"
   ]
  },
  {
   "cell_type": "code",
   "execution_count": null,
   "id": "69cbd51a",
   "metadata": {},
   "outputs": [],
   "source": [
    "# Example: check by Crop and State\n",
    "crop_name = input(\"Enter crop name: \")\n",
    "state_name = input(\"Enter state name: \")\n",
    "\n",
    "# You can add more filters if needed (like Season or Year)\n",
    "filtered = anomalies[\n",
    "    (anomalies['Crop'].str.lower() == crop_name.lower()) &\n",
    "    (anomalies['State'].str.lower() == state_name.lower())\n",
    "]\n",
    "\n",
    "if not filtered.empty:\n",
    "    for idx, row in filtered.iterrows():\n",
    "        print(f\"\\nResult for {row['Crop']} in {row['State']}:\")\n",
    "        print(f\"  Area: {row['Area']}, Production: {row['Production']}, Yield: {row['Yield']}\")\n",
    "        print(f\"  Fertilizer: {row['Fertilizer']} (Avg: {row['Fertilizer_avg']})\")\n",
    "        print(f\"  Rainfall: {row['Annual_Rainfall']} (Avg: {row['Annual_Rainfall_avg']})\")\n",
    "        print(f\"  Pesticide: {row['Pesticide']} (Avg: {row['Pesticide_avg']})\")\n",
    "        print(f\"  REASON: {row['Reasons']}\")\n",
    "        print(f\"  SUGGESTION: {row['Remedies']}\")\n",
    "else:\n",
    "    print(\"No anomaly detected for that crop/state combination.\")"
   ]
  },
  {
   "cell_type": "code",
   "execution_count": null,
   "id": "8bc9bea8",
   "metadata": {},
   "outputs": [],
   "source": []
  }
 ],
 "metadata": {
  "kernelspec": {
   "display_name": "Python 3",
   "language": "python",
   "name": "python3"
  },
  "language_info": {
   "codemirror_mode": {
    "name": "ipython",
    "version": 3
   },
   "file_extension": ".py",
   "mimetype": "text/x-python",
   "name": "python",
   "nbconvert_exporter": "python",
   "pygments_lexer": "ipython3",
   "version": "3.10.11"
  }
 },
 "nbformat": 4,
 "nbformat_minor": 5
}
